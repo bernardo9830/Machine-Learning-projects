{
  "cells": [
    {
      "cell_type": "markdown",
      "metadata": {
        "id": "view-in-github",
        "colab_type": "text"
      },
      "source": [
        "<a href=\"https://colab.research.google.com/github/bernardo9830/Machine-Learning-projects/blob/main/Regression_and_Classification.ipynb\" target=\"_parent\"><img src=\"https://colab.research.google.com/assets/colab-badge.svg\" alt=\"Open In Colab\"/></a>"
      ]
    },
    {
      "cell_type": "markdown",
      "metadata": {
        "id": "xEgeqPHo11Vs"
      },
      "source": [
        "# Supervised Machine Learning: Regression and Classification"
      ]
    },
    {
      "cell_type": "markdown",
      "metadata": {
        "id": "xdNnsM1j11Vy"
      },
      "source": [
        "## Introduction to Machine Learning"
      ]
    },
    {
      "cell_type": "markdown",
      "metadata": {
        "id": "gLSJ0kgc11Vz"
      },
      "source": [
        "Machine Learning is the field of study that gives computers the ability to learn without being explicity programmes."
      ]
    },
    {
      "cell_type": "markdown",
      "metadata": {
        "id": "LRoVkoWY11Vz"
      },
      "source": [
        "The two many types of machine learning are\n",
        "- *supervised learning*\n",
        "- *unsupervised learning*"
      ]
    },
    {
      "cell_type": "markdown",
      "metadata": {
        "id": "mkngLg8711V0"
      },
      "source": [
        "### Supervised Learning\n",
        "*Supervised machine learning* (or *supervised machine learning algorithm*) refers to algorithms that learn x to y or input to output mappings."
      ]
    },
    {
      "cell_type": "markdown",
      "metadata": {
        "id": "3KTNaScG11V1"
      },
      "source": [
        "The two types of supervised learning are\n",
        "- *regression* which learns to predict a number from infinitely many possible outputs\n",
        "- *classification* which learns to predict categories (or class) from small number of possible outputs"
      ]
    },
    {
      "cell_type": "markdown",
      "metadata": {
        "id": "VlTnWgHD11V1"
      },
      "source": [
        "### Unsupervised Learning\n",
        "*Unsupervised machine learning* (or *unsupervised machine learning algorithm*) refers to the algorithms that find patterns between the data which only come with inputs $x$ but not labels $y$."
      ]
    },
    {
      "cell_type": "markdown",
      "metadata": {
        "id": "Fp_Dj3zz11V2"
      },
      "source": [
        "The three types of unsupervised learning are\n",
        "- *clustering* which groups similar data points together\n",
        "- *anomaly detection* which finds unusual data points\n",
        "- *dimensionality reduction* which compresses data using fewer numbers"
      ]
    },
    {
      "cell_type": "markdown",
      "metadata": {
        "id": "XbLs_Hvj11V3"
      },
      "source": [
        "## Terminology\n",
        "- *training set* : set of data used to train the model\n",
        "- $x$ : *input* variable/*feature*\n",
        "- $y$ : *output* variable/*target* variable\n",
        "- $(x, y)$ : single training example\n",
        "- $f$ : function which represent the model realized through a learning algorithm trained from the training set\n",
        "- $\\hat{y}$ : $(= f(x))$ estimation of the target value $y$\n",
        "\n",
        "More generally\n",
        "- $n$ : number of features\n",
        "- $x_j$ : $j^{th}$ feature\n",
        "- $m$ : number of examples\n",
        "- $\\vec{x}^{(i)}$ : vector of features of $i^{th}$ example\n",
        "- $(\\vec{x}^{(i)}, y^{(i)})$ : $i^{th}$ training example\n",
        "\n",
        "Moreover\n",
        "- $\\nabla_{\\vec{w}}J:=\\frac{\\partial J(\\vec{w},b)}{\\partial \\vec{w}}=\\left(\\frac{\\partial J(\\vec{w},b)}{\\partial w_1},\\dots, \\frac{\\partial J(\\vec{w},b)}{\\partial w_n}\\right)$\n"
      ]
    },
    {
      "cell_type": "markdown",
      "metadata": {
        "id": "87hxktqd11V3"
      },
      "source": [
        "## Linear Regression"
      ]
    },
    {
      "cell_type": "markdown",
      "metadata": {
        "id": "BsPp_WOK11V4"
      },
      "source": [
        "*Linear regression* fits data points using linear function."
      ]
    },
    {
      "cell_type": "markdown",
      "metadata": {
        "id": "2Tku2vn811V4"
      },
      "source": [
        "### Univariate linear regression\n",
        "Let $\\vec{x} \\in \\mathbb{R}^n$ an example of the dataset. The model has the following form\n",
        "$$\n",
        "f_{\\vec{w},b}(\\vec{x})=\\vec{w}\\cdot \\vec{x}+b\n",
        "$$\n",
        "where $\\vec{w} \\in \\mathbb{R}^n$ and $b \\in \\mathbb{R}$ are the parameters that are used to predict $y$."
      ]
    },
    {
      "cell_type": "markdown",
      "metadata": {
        "id": "ZtIbLbTs11V5"
      },
      "source": [
        "We want to find $\\vec{w},b$ such that the estimated target value $\\hat{y}^{(i)}=f_{\\vec{w},b}(\\vec{x})$ is closed as much as possible to the target value $y^{(i)}$ for all examples $(\\vec{x}^{(i)},y^{(i)})$. In order to do this, we compute the error, called *square error* or *cost function*. It is given by\n",
        "$$\n",
        "J(\\vec{w},b):=\\frac{1}{2m}\\sum_{i=1}^{m}(\\hat{y}^{(i)}-y^{(i)})^2,\n",
        "$$\n",
        "where $(\\hat{y}^{(i)}-y^{(i)})^2$ is the distance between the estimated target value $\\hat{y}^{(i)}$ and the real target value $y^{(i)}$ of $i^{th}$ example."
      ]
    },
    {
      "cell_type": "markdown",
      "metadata": {
        "id": "OUvwHkft11V5"
      },
      "source": [
        "Obviously the goal is to find $\\vec{w},b$ that minimize the error, i.e.\n",
        "$$\n",
        "\\min_{\\vec{w},b \\in \\mathbb{R}^{n+1}} J(\\vec{w},b)\n",
        "$$\n",
        "which can be done using optimization algorithms such as the *gradient descent*."
      ]
    },
    {
      "cell_type": "markdown",
      "metadata": {
        "id": "rKd2tTGF11V5"
      },
      "source": [
        "### Gradient Descent\n",
        "The goal of the *gradient descent* is to move for a steepest descedent direction on the loss surface to achieve the minimum with a certain tolerance. The direction of descedent is computed by the partial derivative of the loss function.\n",
        "The *gradient descent* algorithm works in the following way:\n",
        "\n",
        "1. *Start with some $\\vec{w},b$*: the common choise is to set $\\vec{w}=0$ and $b=0$. Another possibility is to sample the parameter according to a uniform distribution in the interval $(-\\varepsilon, \\varepsilon)$ with $\\varepsilon$ sufficiently small.\n",
        "\n",
        "2. Compute the loss function and update simultaneously the parameters with the following formula:\n",
        "$$\n",
        "\\begin{align*}\n",
        " \\vec{w}_{new}&=\\vec{w}_{old}-\\eta\\frac{\\partial J(\\vec{w}_{old},b_{old})}{\\partial \\vec{w}}\\\\\n",
        " b_{new}&=b_{old}-\\eta\\frac{\\partial J(\\vec{w}_{old},b_{old})}{\\partial b}\n",
        " \\end{align*}\n",
        "$$\n",
        " where $\\eta$ is a learning rate(fixed small real number) and measure the step size for the minimum point researcher's."
      ]
    },
    {
      "cell_type": "markdown",
      "metadata": {
        "id": "NU6IkwrAn0vn"
      },
      "source": [
        "**Choosing learning rate**\n",
        "\n",
        "\n",
        "1.   If $\\eta$ is too small the alghoritm may converge after a lot of time and more slowly. This is why the step size is very small and can be request a lot of iterations.\n",
        "2.   If $\\eta$ is too big the alghoritm cannot be converge, because we overperform the local minimum due to bigger step size.\n",
        "\n"
      ]
    },
    {
      "cell_type": "markdown",
      "metadata": {
        "id": "rrgbioaQhfaI"
      },
      "source": [
        "### **Logistic regression** ###\n"
      ]
    },
    {
      "cell_type": "markdown",
      "metadata": {
        "id": "rO86c_skhfaI"
      },
      "source": [
        "Logistic regression is a classification model. Consider the input features vector $X \\in \\mathbb{R}^{n}$ the model is given by the following formula:\n",
        "$$\n",
        "f_{(w,b)}=\\sigma(w \\cdot X +b)\n",
        "$$\n",
        "where $\\sigma: \\mathbb{R} \\to \\mathbb{R}$ is the **logistic function** defined as $\\sigma(x)=\\frac{1}{1+e^{-x}}$."
      ]
    },
    {
      "cell_type": "code",
      "execution_count": null,
      "metadata": {
        "colab": {
          "base_uri": "https://localhost:8080/",
          "height": 564
        },
        "id": "ByEWM_atjvEU",
        "outputId": "875da585-c73c-48fe-873b-a4e3e60cce91"
      },
      "outputs": [
        {
          "data": {
            "image/png": "[encoded data removed]",
            "text/plain": [
              "<Figure size 1000x600 with 1 Axes>"
            ]
          },
          "metadata": {},
          "output_type": "display_data"
        }
      ],
      "source": [
        "import numpy as np\n",
        "import matplotlib.pyplot as plt\n",
        "\n",
        "# Definire la funzione sigmoide\n",
        "def sigmoid(x):\n",
        "    return 1 / (1 + np.exp(-x))\n",
        "\n",
        "# Generare i dati per la funzione sigmoide\n",
        "x = np.linspace(-10, 10, 400)\n",
        "y = sigmoid(x)\n",
        "\n",
        "# Definire la soglia\n",
        "threshold = 0.5\n",
        "\n",
        "# Generare alcuni punti sopra e sotto la soglia\n",
        "np.random.seed(42)  # Per la riproducibilità\n",
        "points_x_above = np.random.uniform(-10, 10, 10)\n",
        "points_y_above = np.random.uniform(threshold, 1, 10)\n",
        "points_x_below = np.random.uniform(-10, 10, 10)\n",
        "points_y_below = np.random.uniform(0, threshold, 10)\n",
        "\n",
        "# Creare il grafico\n",
        "plt.figure(figsize=(10, 6))\n",
        "plt.plot(x, y, label='Sigmoid Function')\n",
        "plt.axhline(y=threshold, color='r', linestyle='--', label='Threshold = 0.5')\n",
        "plt.scatter(points_x_above, points_y_above, color='blue', label='Points above threshold')\n",
        "plt.scatter(points_x_below, points_y_below, color='orange', label='Points below threshold')\n",
        "plt.xlabel('x')\n",
        "plt.ylabel('sigmoid(x)')\n",
        "plt.title('Sigmoid Function with Points Above and Below Threshold')\n",
        "plt.legend()\n",
        "plt.grid(True)\n",
        "plt.show()\n"
      ]
    },
    {
      "cell_type": "markdown",
      "metadata": {
        "id": "zSOU7hIdkHtC"
      },
      "source": [
        "The shape of the function suggest to use a critical threshold to classify the instances. For example the points above the threshold $0.5$ are classified positive istances. This is because the *hypothesis function* in logistic regression represents the probability of given istance is positive:\n",
        "$$\n",
        "f_{\\vec{w},b}(\\vec{x}):=\\mathbb{P}(y=1 \\mid \\vec{x}, \\vec{w}, b)\n",
        "$$\n"
      ]
    },
    {
      "cell_type": "markdown",
      "metadata": {
        "id": "t3-13xcNUORK"
      },
      "source": [
        "### **COST FUNCTION OF LOGISTIC REGRESSION**###\n",
        "\n"
      ]
    },
    {
      "cell_type": "markdown",
      "metadata": {
        "id": "LE47t0RhWW-Y"
      },
      "source": [
        "The used cost function is called *binary cross entropy* and is given by\n",
        "$$\n",
        "J(\\vec{w},b)=\\frac{1}{m}\\sum_{i=1}^m L(f_{\\vec{w},b}(\\vec{x}^{(i)},y^{(i)}))\n",
        "$$\n",
        "where\n",
        "- $m$ is the number of the training examples\n",
        "- $x^{i}$ is the $i-th$ training example and $y^{i}$ its target value\n",
        "- $L(f_{\\vec{w},b}(\\vec{x}^{(i)},y^{(i)}))$ is the *loss term* of the $i^{th}$ examples which is given by\n",
        "$$\n",
        "L(f_{\\vec{w},b}(\\vec{x}^{(i)},y^{(i)})):= -y^{(i)}\\log(f_{\\vec{w},b}(\\vec{x}^{(i)})-(1-y^{(i)})\\log(1-f_{\\vec{w},b}(\\vec{x}^{(i)}))\n",
        "$$"
      ]
    },
    {
      "cell_type": "markdown",
      "metadata": {
        "id": "xfK30hdgWtJn"
      },
      "source": [
        "This formula is related to the concept of entropy. The entropy of a random variable $X$ is is the average level of \"information\", \"surprise\", or \"uncertainty\" inherent to the variable's possible outcomes.. It is defined as follow:\n",
        "$$\n",
        "H(X)=-E(log(p(X)))\n",
        "$$\n",
        "and for a discrete distribution $p$ we have\n",
        "$$\n",
        "H(X)=-\\sum_{x \\in \\mathcal{X}}p(x)log(p(x))\n",
        "$$\n",
        "where $\\mathcal{X}$ is the support of $X$"
      ]
    },
    {
      "cell_type": "markdown",
      "metadata": {
        "id": "bHeyhWdoYDbR"
      },
      "source": [
        "### **Overfitting and Underfitting** ###"
      ]
    },
    {
      "cell_type": "markdown",
      "metadata": {
        "id": "F6wYWB22ACzm"
      },
      "source": [
        "The overfitting and underfitting problem are the main problems that affect the development of the model. If the model fits very well data points during the training phase and then in the test phase it works bad, then the model has poorly capable to generalize the relations beetwen data. This is the problem well known as overfitting. There are several cause to this problem:\n",
        "\n",
        "1) Complexity of the model\n",
        "\n",
        "2) Poor quality of the data\n",
        "\n",
        "3) Unbalanced data\n",
        "\n",
        "What can we do to avoid oferfitting?\n",
        "\n",
        "1) Adding more training examples\n",
        "\n",
        "2) Use fewer features (feature selection)\n",
        "\n",
        "3) Regularization tecnicques"
      ]
    },
    {
      "cell_type": "markdown",
      "metadata": {
        "id": "8_2UgmCkACzm"
      },
      "source": [
        "**Regularization**"
      ]
    },
    {
      "cell_type": "markdown",
      "metadata": {
        "id": "wT_-4SP5ACzm"
      },
      "source": [
        "Regularization techniques in machine learning are methods used to prevent overfitting, which occurs when a model learns not only the underlying patterns in the training data but also the noise. Regularization adds a penalty to the loss function to constrain the model’s complexity, ensuring it generalizes better to unseen data.\n",
        "If we have a paramters vector $\\vec{\\theta} \\in \\mathbb{R}^{n+1}$ the $l_2(\\vec{\\theta})$ regularization term is defined as:\n",
        "$$\n",
        "l_2(\\vec{\\theta})=\\lambda ||\\vec{\\theta}||^{2}_2\n",
        "$$\n",
        "Hence the loss with the regularization term is:\n",
        "$$\n",
        "J(\\vec{w},b)=\\frac{1}{m}\\sum_{i=1}^m L(f_{\\vec{w},b}(\\vec{x}^{(i)},y^{(i)}))+\\lambda (\\sum_{i=1}^{n}w_{i}^{2} \\ + b^{2})\n",
        "$$\n"
      ]
    }
  ],
  "metadata": {
    "colab": {
      "provenance": [],
      "include_colab_link": true
    },
    "kernelspec": {
      "display_name": "Python 3",
      "name": "python3"
    },
    "language_info": {
      "name": "python"
    }
  },
  "nbformat": 4,
  "nbformat_minor": 0
}